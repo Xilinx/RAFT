{
 "cells": [
  {
   "cell_type": "code",
   "execution_count": 1,
   "metadata": {},
   "outputs": [],
   "source": [
    "# Copyright (C) 2021-2022 Xilinx, Inc.  All rights reserved.\n",
    "# SPDX-License-Identifier: BSD-3-Clause\n",
    "from rftool import Rftool\n",
    "from bqplot import pyplot as plt\n",
    "import numpy as np\n",
    "from numpy import fft"
   ]
  },
  {
   "cell_type": "code",
   "execution_count": 2,
   "metadata": {},
   "outputs": [
    {
     "ename": "AttributeError",
     "evalue": "'Rftool' object has no attribute 'SetBoardName'",
     "output_type": "error",
     "traceback": [
      "\u001b[0;31m---------------------------------------------------------------------------\u001b[0m",
      "\u001b[0;31mAttributeError\u001b[0m                            Traceback (most recent call last)",
      "\u001b[0;32m<ipython-input-2-6936488221a4>\u001b[0m in \u001b[0;36m<module>\u001b[0;34m\u001b[0m\n\u001b[1;32m      2\u001b[0m \u001b[0;31m# SetBoardName\u001b[0m\u001b[0;34m\u001b[0m\u001b[0;34m\u001b[0m\u001b[0;34m\u001b[0m\u001b[0m\n\u001b[1;32m      3\u001b[0m \u001b[0mboard_name\u001b[0m \u001b[0;34m=\u001b[0m \u001b[0;34m\"zcu208\"\u001b[0m\u001b[0;34m\u001b[0m\u001b[0;34m\u001b[0m\u001b[0m\n\u001b[0;32m----> 4\u001b[0;31m \u001b[0mrftool_handle\u001b[0m\u001b[0;34m.\u001b[0m\u001b[0mSetBoardName\u001b[0m\u001b[0;34m(\u001b[0m\u001b[0mboard_name\u001b[0m\u001b[0;34m)\u001b[0m\u001b[0;34m\u001b[0m\u001b[0;34m\u001b[0m\u001b[0m\n\u001b[0m\u001b[1;32m      5\u001b[0m \u001b[0;31m# SetIpAndPort\u001b[0m\u001b[0;34m\u001b[0m\u001b[0;34m\u001b[0m\u001b[0;34m\u001b[0m\u001b[0m\n\u001b[1;32m      6\u001b[0m \u001b[0mrftool_handle\u001b[0m\u001b[0;34m.\u001b[0m\u001b[0mSetIpAndPort\u001b[0m\u001b[0;34m(\u001b[0m\u001b[0;34m\"127.0.0.1\"\u001b[0m\u001b[0;34m,\u001b[0m \u001b[0;34m\"9090\"\u001b[0m\u001b[0;34m)\u001b[0m\u001b[0;34m\u001b[0m\u001b[0;34m\u001b[0m\u001b[0m\n",
      "\u001b[0;31mAttributeError\u001b[0m: 'Rftool' object has no attribute 'SetBoardName'"
     ]
    }
   ],
   "source": [
    "rftool_handle = Rftool()\n",
    "# SetBoardName\n",
    "board_name = \"zcu216\"\n",
    "rftool_handle.SetBoardName(board_name)\n",
    "# SetIpAndPort\n",
    "rftool_handle.SetIpAndPort(\"127.0.0.1\", \"9090\")\n",
    "# SetMetalLogLevel\n",
    "metal_log_level = rftool_handle.GetEnum_metal_log_level()\n",
    "rftool_handle.SetMetalLogLevel(metal_log_level[\"METAL_LOG_DEBUG\"])\n",
    "# GetPythonLogLevels\n",
    "PythonLogLevels = rftool_handle.GetPythonLogLevels()\n",
    "# SetClientLogLevel\n",
    "rftool_handle.SetClientLogLevel(PythonLogLevels[\"ERROR\"])\n",
    "\n",
    "ret, inst_id = rftool_handle.Initialize()"
   ]
  },
  {
   "cell_type": "code",
   "execution_count": null,
   "metadata": {},
   "outputs": [],
   "source": [
    "# setup clocking\n",
    "DistributionSettings = rftool_handle.GetStruct_XRFdc_Distribution_Settings()\n",
    "if board_name == \"zcu208\":\n",
    "    DistributionSettings[\"SourceTileId\"] = 0\n",
    "else:\n",
    "    DistributionSettings[\"SourceTileId\"] = 2\n",
    "DistributionSettings[\"SourceType\"] = 1\n",
    "DistributionSettings[\"EdgeTypes\"] = [0,1]\n",
    "DistributionSettings[\"EdgeTileIds\"] = [0,3]\n",
    "DistributionSettings[\"DistRefClkFreq\"] = 245.76\n",
    "DistributionSettings[\"DistributedClock\"] = 1\n",
    "DistributionSettings[\"SampleRates\"] = [[2211.86, 2211.86, 2211.86, 2211.86], [2211.86, 2211.86, 2211.86, 2211.86]]\n",
    "ret = rftool_handle.XRFdc_SetClkDistribution(inst_id, DistributionSettings)\n"
   ]
  },
  {
   "cell_type": "code",
   "execution_count": null,
   "metadata": {},
   "outputs": [],
   "source": [
    "tile_id = 0\n",
    "dac_block_id = 0\n",
    "if board_name == \"zcu208\":\n",
    "    if dac_block_id == 2:\n",
    "        adc_block_id = 1\n",
    "    else:\n",
    "        adc_block_id = 0\n",
    "else:\n",
    "    adc_block_id = dac_block_id\n",
    "\n",
    "N = 2048  # number of 16bit samples\n",
    "f = 602.560\n",
    "FS = 2211.86\n",
    "FS_DAC = 2211.86"
   ]
  },
  {
   "cell_type": "code",
   "execution_count": null,
   "metadata": {},
   "outputs": [],
   "source": [
    "T = 1/FS_DAC\n",
    "t = np.arange(0, (N * T), T)\n",
    "sig = 0x1fff * np.cos(2 * np.pi * f * t)"
   ]
  },
  {
   "cell_type": "code",
   "execution_count": null,
   "metadata": {},
   "outputs": [],
   "source": [
    "MixerSettingsADC = {\n",
    "    \"Freq\": 0.0,\n",
    "    \"PhaseOffset\": 0.0,\n",
    "    \"EventSource\": 2,\n",
    "    \"CoarseMixFreq\": 0x10,\n",
    "    \"MixerMode\": 4,\n",
    "    \"FineMixerScale\": 0,\n",
    "    \"MixerType\": 1,\n",
    "}\n",
    "\n",
    "ret, MixerSettingsADC = rftool_handle.XRFdc_SetMixerSettings(inst_id, 0, tile_id, adc_block_id, MixerSettingsADC)\n",
    "print(\"rftool_handle.XRFdc_SetMixerSettings ret = \", ret)\n",
    "\n",
    "ret = rftool_handle.XRFdc_UpdateEvent(inst_id, 0, tile_id, adc_block_id, 1)\n",
    "print(\"rftool_handle.XRFdc_UpdateEvent ret = \", ret)\n",
    "\n",
    "ret, df = rftool_handle.XRFdc_GetDecimationFactor(inst_id, tile_id, adc_block_id)\n",
    "print(f\"rftool_handle.XRFdc_GetDecimationFactor ret = {ret} Decimation factor = {df}\")\n",
    "\n",
    "ret = rftool_handle.SetMMCM(inst_id, 1, 0)\n",
    "print(\"rftool_handle.SetMMCM ret = \", ret)\n",
    "\n",
    "ret = rftool_handle.SetMMCM(inst_id, 1, 1)\n",
    "print(\"rftool_handle.SetMMCM ret = \", ret)\n",
    "\n",
    "ret = rftool_handle.SetMMCM(inst_id, 1, 2)\n",
    "print(\"rftool_handle.SetMMCM ret = \", ret)\n",
    "\n",
    "ret = rftool_handle.SetMMCM(inst_id, 1, 3)\n",
    "print(\"rftool_handle.SetMMCM ret = \", ret)\n",
    "\n",
    "ret = rftool_handle.SetMMCM(inst_id, 0, 0)\n",
    "print(\"rftool_handle.SetMMCM ret = \", ret)\n",
    "\n",
    "ret = rftool_handle.SetMMCM(inst_id, 0, 1)\n",
    "print(\"rftool_handle.SetMMCM ret = \", ret)\n",
    "\n",
    "ret = rftool_handle.SetMMCM(inst_id, 0, 2)\n",
    "print(\"rftool_handle.SetMMCM ret = \", ret)\n",
    "\n",
    "ret = rftool_handle.SetMMCM(inst_id, 0, 3)\n",
    "print(\"rftool_handle.SetMMCM ret = \", ret)"
   ]
  },
  {
   "cell_type": "code",
   "execution_count": null,
   "metadata": {},
   "outputs": [],
   "source": [
    "# Ensure Channels Enabled\n",
    "#First Tiles must be disabled (see pg269)\n",
    "rftool_handle.lmem_wr32(0xb000000c, 0x0)\n",
    "rftool_handle.lmem_wr32(0xb040000c, 0x0)\n",
    "#Channels can now be enabled\n",
    "rftool_handle.lmem_wr32(0xb0000008, 0xffff)\n",
    "rftool_handle.lmem_wr32(0xb0400008, 0xffff)\n",
    "#Enable all Tiles\n",
    "rftool_handle.lmem_wr32(0xb000000c, 0xf)\n",
    "rftool_handle.lmem_wr32(0xb040000c, 0xf)"
   ]
  },
  {
   "cell_type": "code",
   "execution_count": null,
   "metadata": {},
   "outputs": [],
   "source": [
    "rftool_handle.WriteDataToMemory(tile_id, dac_block_id, sig)\n",
    "rftool_handle.SetLocalMemSample(1, tile_id, dac_block_id, N)\n",
    "rftool_handle.LocalMemTrigger(1)\n",
    "\n",
    "rftool_handle.SetLocalMemSample(0, tile_id, adc_block_id, N)\n",
    "rftool_handle.LocalMemTrigger(0)\n",
    "SigOut = rftool_handle.ReadDataFromMemory(tile_id, adc_block_id, N, 0)\n"
   ]
  },
  {
   "cell_type": "code",
   "execution_count": null,
   "metadata": {},
   "outputs": [],
   "source": [
    "plt.clear()\n",
    "dft = np.abs(fft.fft(SigOut[0]))\n",
    "fstp = FS/N\n",
    "fx = np.arange(0, FS, fstp)\n",
    "plt.plot(fx, dft)\n",
    "plt.show()"
   ]
  },
  {
   "cell_type": "code",
   "execution_count": null,
   "metadata": {},
   "outputs": [],
   "source": []
  }
 ],
 "metadata": {
  "kernelspec": {
   "display_name": "Python 3",
   "language": "python",
   "name": "python3"
  },
  "language_info": {
   "codemirror_mode": {
    "name": "ipython",
    "version": 3
   },
   "file_extension": ".py",
   "mimetype": "text/x-python",
   "name": "python",
   "nbconvert_exporter": "python",
   "pygments_lexer": "ipython3",
   "version": "3.8.5"
  }
 },
 "nbformat": 4,
 "nbformat_minor": 4
}